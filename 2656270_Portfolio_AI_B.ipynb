{
 "cells": [
  {
   "cell_type": "markdown",
   "id": "77afc095",
   "metadata": {},
   "source": [
    "# AI for the Arts and Humanities (B) - Human-AI Collaboration Project"
   ]
  },
  {
   "cell_type": "markdown",
   "id": "8371333b",
   "metadata": {},
   "source": [
    "## 1. Clarity of Context"
   ]
  },
  {
   "cell_type": "markdown",
   "id": "0f62447b",
   "metadata": {},
   "source": [
    "### 1.1 Chosen Object"
   ]
  },
  {
   "cell_type": "markdown",
   "id": "222f1bcf",
   "metadata": {},
   "source": [
    "The object I chose to work on for my project is the 17th century Atlas by Richard Blome titled 'A geographical description of the four parts of the world'. This map consists of detailed inscriptions of various regions, covering topics such as: geography, climate, culture, economy, and politics. Additionally, it also consists various map illustrations, some of which can be folded out. The Atlas can be found in the University of Glasgow [Special Collections](https://eleanor.lib.gla.ac.uk/record=b1602324) Archive within the library, where it was bought by the university in 1693. The atlas is not available for loan however, anyone with a [booking](https://www.gla.ac.uk/myglasgow/archivespecialcollections/bookanappointment/) is welcome to observe it. Alternatively, through the help of my peer who found a digitised version, it can also be found [online](https://babel.hathitrust.org/cgi/pt?id=aeu.ark:/13960/t3qv4736d&seq=6). The Atlas today is not in great condition; it must be handled extremely cautiously as it has damage to the pages, with holes in some pages as well as the front page, which has completely separated from the book itself; this results in the atlas having ties to ensure it is secured shut. This damage is a result of time and the harsh conditions of overseas voyages. "
   ]
  },
  {
   "cell_type": "markdown",
   "id": "9e0e2ea0",
   "metadata": {},
   "source": [
    "### 1.2 History of Object"
   ]
  },
  {
   "cell_type": "markdown",
   "id": "d11f1120",
   "metadata": {},
   "source": [
    "   The Atlas was orginally published in 1670 by cartographer Richard Blome and illuminates the notes and workes of Monsieur Sanson, a geographer to the French king, and other eminent travellers and authors. His atlas, aimed to provide a comprehensive overview of the known world at the time and was part of a broader trend of European exploration and expansion during the 17th century. It reflected the growing interest in geography, cartography, and world exploration among the educated elite of Europe. Like other works of its time, Blome's atlas contributed to the dissemination of geographical knowledge and the shaping of European perceptions of the world, and while Blome's atlas might lack the precision and accuracy of modern atlases, it remains an important historical document for understanding how Europeans viewed the world in the 17th century. It provides insights into early modern European geography, as well as the cultural and intellectual context of the time. [source](https://digitalcollections.nypl.org/items/74864440-c5d3-012f-4b9d-58d385a7bc34#/?uuid=74f4ddc0-c5d3-012f-a692-58d385a7bc34).\n",
    "  \n",
    "  The atlas is categorised in four major segments (for each of the four parts of the world it eludicates; Asia, Africa, Europe and America), and contains vast desciptions on regional geography and landscapes, descriptions on natives to each region, trade and merchant matters, and politics. The atlas has commendable details for users of its time, as it describes each countries; woodlands, lakes and rivers, agriculture and manufactured goods. It also notes the value of trade within cities as well as natural defences and ports of the city.  \n",
    "  \n",
    "  Thanks to Robert Maclean, his research highlights that the atlas was bought by the University of Glasgow in 1693 alongside various other books which had once belonged to Scottish sea captain John Anderson, active sailor 1662ca-1695 [source: Robert Maclean](MacLean_v2.pdf). Captain Anderson, a ship master and merchant from Glasgow, used the atlas quite heavily during his voyages, even repairing some damaged pages and holes of the atlas with invoices he collected throughout his travels. This helps shows researchers, like Robert Maclean, his routes of travel, showing his frequent travel between Scotland and Spain, as well as the Mediterranean, where they exported items such as salmon and wax candles to the Spanish market, and imported things like figs lemons, and wine for Scotland in the seventeenth century.  \n",
    "   \n",
    "   The atlas provides many enlightening historical perspectives of the world's geography and trade operations. Its extensive nature allows for a broader perspective on 17th century economics and geographical landscape that benefits the modern era, offering valuable information for historians, genealogists, and researchers interested in tracing the evolution of territories and settlements, as well as political and socio-cultural affairs. "
   ]
  },
  {
   "cell_type": "markdown",
   "id": "7b02fc4a",
   "metadata": {},
   "source": [
    "<img src=\"media/atlas_titlepage.jpeg\" alt=\"Front Cover of Atlas\">"
   ]
  },
  {
   "cell_type": "markdown",
   "id": "213c3baf",
   "metadata": {},
   "source": [
    "<img src=\"media/map_america.PNG\" alt=\"Map of America\">"
   ]
  },
  {
   "cell_type": "markdown",
   "id": "94efd724",
   "metadata": {},
   "source": [
    "Source: Lionel Pincus and Princess Firyal Map Division, The New York Public Library. (1670). A geographical description of the four parts of the world taken from the notes & works of the famous Monsieur Sanson, geographer to the French king, and other eminent travellers and authors. Retrieved from [source](https://digitalcollections.nypl.org/items/74864440-c5d3-012f-4b9d-58d385a7bc34)"
   ]
  },
  {
   "cell_type": "markdown",
   "id": "0be766d6",
   "metadata": {},
   "source": [
    "### 1.3 Objectives"
   ]
  },
  {
   "cell_type": "markdown",
   "id": "743d5781",
   "metadata": {},
   "source": [
    "As the atlas was written in the 17th century, grasping the full extent of it today is very difficult due to; its style of writing, itensive map imagery and its historical lexicon. It is most beneficial to those with a deep interest in historical geography and abilities to observe cartography. However, for the general public the atlas can appear complex and overwhelming to read. Therefore my aim is to make this map more engaing for the general public to provide a broader and more explicit understanding of its content by visualising some descriptions, to make the intesive written nature of the atlas more accessible and digestable. I will using generative AI to achieve this and aim to;\n",
    "\n",
    "1. Utilise ChatGPT-4 to generate realistic landscapes based on textual descriptions, enhancing the atlas with visually engaging imagery. \n",
    "\n",
    "2. Explore and demonstrate how AI and human collaboration can enhance and broadern creative opportunities.\n",
    "\n",
    "3. Provide a broader and more explicit understanding of the atlas's content by visualising some descriptions, thereby making it more engaging for readers."
   ]
  },
  {
   "cell_type": "markdown",
   "id": "5abfd8c8",
   "metadata": {},
   "source": [
    "## 2. Soundness of Methodology "
   ]
  },
  {
   "cell_type": "markdown",
   "id": "deddaa65",
   "metadata": {},
   "source": [
    "### 2.1 Methods for Addressing Objectives"
   ]
  },
  {
   "cell_type": "markdown",
   "id": "f4f63ea5",
   "metadata": {},
   "source": [
    "Intially, my aim was to use text-to-speech in order to make the atlas more engaging for users who would benefit from auditory information as opposed to navigating the difficult to read text within the atlas. However, during the presentation lab to gather peer feeback, it was highlighted to me that text-to-speech was not a generative AI tool. Peers in my group gave me commendable feedback and suggested that I could rather use handwritten recognition and then text-to-speech to carry out my idea, suggestions on also using image generation was highlighted to me. To further help stimulate new ideas on methods and ways I can execute my objectives of making the atlas easier to read and view, I prompted questions into ChatGPT to gather a broader prespective on the various generative AI models I may be able to utilise. \n",
    "\n",
    "<li>prompt: what types of generative ai could be used to enhance map images in an atlas?</li>\n",
    "\n",
    "The prompt resulted many generative AI models, which I narrowed down to StyleGAN and Dall-e (types of generative AI that can be used for image generation), however upon testing these methods, I discovered that much of the code I was trying to run would be very slow and beyond my personal laptop's capacity. While this class offered an option to conduct this project on computers with greater capacity, my peer support group mentioned how this project could be replicated to a wider audience.\n",
    "\n",
    "Subsequently, i opted for a faster and more simplitic method of image generation: GPT-4 (which was successful).\n",
    "\n",
    "Firstly, to provide a greater understanding, i will explain what ai is before i take you through how i used it.\n",
    "\n",
    "**What is AI?**\n",
    "\n",
    "* Artificial Intelligence (AI) is the exploration and advancement of computer systems capable of executing tasks traditionally associated with human intelligence, such as speech recognition, decision-making, and pattern identification. Its a little like like giving computers the ability to think and learn in a way similar to humans. It's about making machines smart enough to understand, analyze, and solve problems on their own without being specifically programmed for each task. Think of it as teaching a computer to think and make decisions, much like humans do. This involves using algorithms, which are like sets of instructions, to process data and learn from it, so the computer can improve over time. AI is an umbrella term that encompasses a wide variety of technologies, including machine learning, deep learning, and natural language processing (NLP). AI used in various fields like healthcare, finance, gaming, and many more to make processes smarter and more efficient.\n",
    "\n",
    "<img src=\"media/AiDiagram2.png\" alt=\"Ai Diagram\"> \n",
    "Source: made using Canva\n",
    "\n",
    "* Generative AI is a branch of artificial intelligence focused on creating new data or content, such as images, text, or music, rather than just analyzing existing data or making predictions based on it. Generative AI algorithms, like Generative Adversarial Networks (GANs) or Variational Autoencoders (VAEs), learn patterns from large datasets and then generate new examples that resemble the original data. This technology has applications in various fields, including art, design, gaming, and content creation. In this case i will use it to help make this atlas more engaging!\n",
    "\n",
    "* To make it clear, lets break down and simplify the concept of how the AI works. Imagine you're training a pet robot to recognise different fruits. You'd show it tons of pictures, saying, \"This is an apple, that's a banana,\" and so on. This process is called **data training** which is fundamental for **machine learning** that involves using algorithms trained on data sets (in this case the fruits) to create ai models that enable machines to perform tasks that would otherwise only be possible for humans. The robot, or AI model, learns from these examples to spot patterns by itself. So, machine learning is a method of teaching computers to learn from data and make decisions or predictions without being explicitly programmed for each task. It's about creating algorithms that improve automatically through experience.\n",
    "\n",
    "* **Deep learning** is a type of machine learning where computers use layered neural networks to understand and process data. These neural networks are called \"deep\" because they have many layers, allowing them to learn complex patterns and relationships within the data. These networks learn from examples, gradually improving their ability to recognise patterns and make predictions. By adjusting connections between nodes, they get better at tasks like identifying images or understanding language. It is a powerful technique widely used in things like image recognition, natural language processing, and more.\n",
    "\n",
    "* Now, let's break down **neural networks**, which are essentially like the brain of our pet robot. They're made up of layers, each containing nodes that act like neurons. These nodes receive inputs, process them, and pass them on to the next layer, kinda like how our brains work with neurons firing signals. When our robot (the AI model) sees a new picture of a fruit, the neural network processes it through these layers, gradually figuring out what it is. It's like the robot's brain is analysing the image step by step until it makes a guess. Additionally, through a process called backpropagation, the AI learns from its mistakes. If it mistakes a banana for an apple, it adjusts its neural network to get better next time. It's like correcting your pet robot when it gets a fruit wrong, so it learns to be more accurate over time. Therefore in summary, AI works by training models through machine learning, using neural networks to process data and learn from it, ultimately making decisions or predictions based on what it's learned. It's like teaching a smart pet robot to recognise fruits, but on a much larger and more complex scale!\n",
    "\n",
    "\n",
    "**What Is ChatGPT?**\n",
    "\n",
    "* ChatGPT, developed by OpenAI, is a sophisticated language model designed to understand and generate human-like text responses. It operates using deep learning, specifically using a type of neural network called the Transformer architecture, that allows the ai to figure out the meaning of words in a sentence by looking at all the words together, not just one at a time. \n",
    "\n",
    "* When you input text to ChatGPT, it breaks down the information into smaller parts, analyzes the context, and predicts what would be a fitting response based on its extensive training on vast amounts of text data. It doesn't just regurgitate pre-programmed responses; instead, it generates responses based on the patterns it has learned from its training data.\n",
    "\n",
    "* GPT-4 is latest update of this model, likely incorporating improvements in its architecture, training techniques, and dataset. These enhancements lead to better understanding of context, more accurate responses, and overall more natural interactions with users.\n",
    "\n",
    "* ChatGPT can also be adapted for image generation tasks. This involves training the model on a dataset of images and their corresponding captions or descriptions. By learning the relationships between images and text descriptions, the model can generate new images based on textual prompts. For example, if you provide GPT-4 with a description like \"a cat sitting on a chair,\" it can generate a new image that matches that description. This is accomplished by the model generating the pixel values for each pixel in the image based on the textual prompt it receives.\n",
    "\n",
    "\n",
    "\n",
    "\n",
    "The image generation of ChatGPT-4 is what I will use here to help make the atlas more engaging. This allows readers to gather a greater insight into what the geographical desciptions into the atlas look like. I chose to use this, as it is a simpler AI model to use for individuals, like myself, who struggle with coding. A established before, generative ai requires data training and machine learning to create effective ai models. By using ChatGPT-4, it means i will be using a pre-trained model which saves me time and resources for training my own model from scratch. It's simplicity allows anyone to use it effectively, as it is already trained on vast amounts of data. However, ChatGPT-4 is not free unlike ChatGPT, it requires a monthly membership. If you're lucky like me, you can split and share it with peers to reap its benefits! Special thanks to my peer support group!\n",
    "\n",
    "\n"
   ]
  },
  {
   "cell_type": "markdown",
   "id": "a473077d",
   "metadata": {},
   "source": [
    "### 2.2 Process "
   ]
  },
  {
   "cell_type": "markdown",
   "id": "060ac6db",
   "metadata": {},
   "source": [
    "In order to generate images, the following prompts were inputed into ChatGPT-4;\n",
    "* Generate a realistic image of a spanish port in the 1600s, with imports and market trade goods being loaded onto ships.\n",
    "* Generate a realistic image of asian landscape in the 1600s, generate another realistic image of asian landscape in present day to show and contrast geographical differences from that time period.\n",
    "* Generate a realistic image of an English port in the 1600s, with wet weather and working class individuals slaving away.\n",
    "* Generate a realistic image of scottish people in the 1600s, appearing very rude and utterly barbarous\n",
    "* Generate a realistic image on northern iraq, abounding with lots of flora of corn and wine"
   ]
  },
  {
   "cell_type": "markdown",
   "id": "ffee23e9",
   "metadata": {},
   "source": [
    "### 2.4 Results "
   ]
  },
  {
   "cell_type": "markdown",
   "id": "abf73cf3",
   "metadata": {},
   "source": [
    "<img src=\"media/spanishport_1600s.webp\" width=\"800\" alt=\"Ai generated image of spanish port 1600s\">"
   ]
  },
  {
   "cell_type": "markdown",
   "id": "ea458611",
   "metadata": {},
   "source": [
    "Prompt for above image:\n",
    "* Generate a realistic image of a spanish port in the 1600s, with imports and market trade goods being loaded onto ships. \n",
    "\n",
    "This image generated displays an idea of a Spanish port busy with trade in the 1600s. By this it is clear to see ways in which merchants would work on a daily basis. Additionally, it visually shows the difference between modern day ports and ports from the 17th century. It provides interesting insight into how the scale and safety of opertions over time has in some ways shifted structure and process of operting such activities. "
   ]
  },
  {
   "cell_type": "markdown",
   "id": "f1b35bd6",
   "metadata": {},
   "source": [
    "<div style=\"display: flex;\">\n",
    "    <img src=\"media/asian_landscape1600s.webp\" width=\"400\" height=\"400\" style=\"margin-right: 10px;\" alt=\"Ai generated image of asian landscape in 1600s\">\n",
    "    <img src=\"media/modern_asia.webp\" width=\"400\" height=\"400\" style=\"margin-left: 10px;\" alt=\"Ai generated image of modern asian city\">\n",
    "</div>"
   ]
  },
  {
   "cell_type": "markdown",
   "id": "5a0e7edd",
   "metadata": {},
   "source": [
    "<div style=\"display: flex;\">\n",
    "    <img src=\"media/asianlandscape2_1600s.webp\" width=\"400\" height=\"400\" style=\"margin-right: 10px;\" alt=\"Ai generated image of asian landscape in 1600s\">\n",
    "    <img src=\"media/modern_asia2.webp\" width=\"400\" height=\"400\" style=\"margin-left: 10px;\" alt=\"Ai generated image of modern asian city\">\n",
    "</div>"
   ]
  },
  {
   "cell_type": "markdown",
   "id": "97230086",
   "metadata": {},
   "source": [
    "Prompt for above image: \n",
    "* Generate a realistic image of asian landscape in the 1600s, generate another realistic image of Asian landscape in present day to show and contrast geographical differences from that time period.\n",
    "\n",
    "Both comparison images above highlight the differences between an older asian landscape and a modern day cityscape. These images help visualise the green, flora and mountainous descriptions in the atlas of asia. They also highlight the evolution of asian landscapes into modern time, in which almost all major cities across Asia have developed from the serene landscape to the bustling cities we know today with an abundace of skyscrapers and technical advancements. Visualising this showcases the vast differences between traditional asian life and modern lifestyles."
   ]
  },
  {
   "cell_type": "markdown",
   "id": "d32ced88",
   "metadata": {},
   "source": [
    "<img src=\"media/englishport2_1600s.webp\" width=\"800\" alt=\"Ai generated image of English port in 1600s\">"
   ]
  },
  {
   "cell_type": "markdown",
   "id": "ec86dbbd",
   "metadata": {},
   "source": [
    "Prompt for above image: \n",
    "* Generate a realistic image of an English port in the 1600s, with wet weather and working class individuals slaving away.\n",
    "\n",
    "The above image showcases the wet and cathartic atmosphere the atlas describes about England and English ports. "
   ]
  },
  {
   "cell_type": "markdown",
   "id": "329f7e30",
   "metadata": {},
   "source": [
    "<img src=\"media/rude_scots.webp\" width=\"800\" alt=\"Ai generated image of 'rude scots'\">"
   ]
  },
  {
   "cell_type": "markdown",
   "id": "c023512f",
   "metadata": {},
   "source": [
    "Prompt for above image:\n",
    "* Generate a realistic image of scottish people in the 1600s, appearing very rude and utterly barbarous\n",
    "\n",
    "The atlas describes scottish people as \"very rude\" and \"utterly barbarous\" (brutal, primative and uncivilised) this image helps to visualise the essence of those descriptions. \n",
    "\n",
    "As I am sure you are thinking right now: this image does not accurately display that essence, to what we assume was most likely a much more rude and uncivilised aura that Richard Blome was describing. This sparks the notion about AI accuracy and human collaboration, something I will cover further below!"
   ]
  },
  {
   "cell_type": "markdown",
   "id": "fa75a4cf",
   "metadata": {},
   "source": [
    "<img src=\"media/northerniraq_1600s.webp\" width=\"800\" alt=\"Ai generated image of northern iraq 1600s\">"
   ]
  },
  {
   "cell_type": "markdown",
   "id": "89d1f3ba",
   "metadata": {},
   "source": [
    "Prompt for above image:\n",
    "* Generate a realistic image on northern iraq, abounding with lots of flora of corn and wine \n",
    "\n",
    "Richard Blome describes northern Mesopotamia (what we know as Iraq today) as visually very green \"abounding with lots of flore of corn and wine\". This image visually showcases an understanding of what that would have been like. This contrasts vastly to the Iraq we know today that, through much conflict over recent time periods, appears very barren as well as dry. This helps critically take in desciptions within the atlas and reflect into the modern era. It also sparks interesting thoughts about the drastic changes political matters has caused to regions and their landscapes. "
   ]
  },
  {
   "cell_type": "markdown",
   "id": "06c2c29e",
   "metadata": {},
   "source": [
    "### 2.6 AI & Human Collaboration "
   ]
  },
  {
   "cell_type": "markdown",
   "id": "3a3e9810",
   "metadata": {},
   "source": [
    "Whilst AI is praised for its effciency and abilities, it of course should never be assumed to take over elements of 'human touch'. This project proposed to use Human-AI collaboration in order to engage the general public more to better grasp an understanding of the atlas.\n",
    "\n",
    "Human-AI collaboration has been imperative in my project as without using AI, such imagery of 17th century regional landscape would not be achieved so easily and would require much more labour. Additionally, through showcasing how anyone can replicate this through using GPT-4 to produce any kind of image from inputting prompts, this project highlights the efficiency and creativity generative AI can display. This allows individuals who may have access to GPT-4 to utilise its abilities. In this project it vastly assists in providing visual imgagery to the complex and intensive desciptions provided in the atlas. This allows readers to gather a quicker understanding of the atmosphere Richard Blome describes throughout the atlas. Additionally, choosing to use AI to make this atlas more engaging is beneficial, as it allows for: personalisation, efficiency, accessibility and innovation. \n",
    "\n",
    "Contrastingly, human assistance is immensley required for this project. Human input firstly is required to explain the AI generated images to give meaning and value as well as historical context to the images in order to provide accuracy and ensure that the images produced are true to the desciptions within the atlas. This is important as without trying different prompts into ChatGPT it is likely that irrelevant images will be produced, furthermore it is vital to ensure the outputs generated are of relevancy. \n",
    "\n",
    "Human input is also essential to decipher the atlas text, as this played a key role in generating the input. GPT-4's opticial character recognition capacity (meaning converting text in an image to one that you can edit through your computer) was intially used to help utilise and analyse certain texts. However, the outputs generated when using this displayed inaccurate and nonsensical results made up of jumbled letters and inaccurate words. Human input here was necessary for deciphering the atlas text and use human cognition to make it of value, this is especially true as the style of writing and use of lexicon in that time period is unfamiliar to AI, resulting in inaccurate outputs. Therefore, utilising human supervision was vital for once again ensuring accuracy. \n",
    "Human collaboration is also essential for emotional aspects of work. Generally, AI does not capture emotion as well as human abilities (as seen in the picture of the 'rude Scots' above). Whilst it makes a considerate attempt, it often cannot be relied to produce exemplary outcomes of emotional matters. This also goes for sensitive topics such as matters including; race and politics. In context to this atlas, it was written at a time of immense racial tensions and discriminatory attitudes. Its apparent colonial tone for various descriptions of ethnicities requries human supervision, as prompting that into AI generation can breach ethical guidelines. Additionally it is important in this context to ensure that accurate portrayal of the atlas descriptions are showcased however, not at a cost of insensitive tones. Human collaboration is also essential in these contexts to eliminate elements of bias and callousness. \n",
    "\n",
    "Ensuring human collaboration with AI is imperative to deliver a more comprehensive insight and provide accurate and unbiased information, especially in historical contexts. "
   ]
  },
  {
   "cell_type": "markdown",
   "id": "4a7aca71",
   "metadata": {},
   "source": [
    "## 3. Quality of Project"
   ]
  },
  {
   "cell_type": "markdown",
   "id": "6bd10396",
   "metadata": {},
   "source": [
    "### 3.1 Evaluation "
   ]
  },
  {
   "cell_type": "markdown",
   "id": "9ad1fc19",
   "metadata": {},
   "source": [
    "Regarding this project, 4 main observations can be made;\n",
    "\n",
    "**Notable Success in Image Generation:**\n",
    "- GPT-4 demonstrated commendable success in generating visually appealing images, surpassing expectations in many aspects. Its ability to generate diverse and high-quality images enhanced the visual appeal of the atlas, contributing significantly to its engagement factor. The ease of use and reliability of GPT-4 made it a valuable asset in elevating the public's experience with the atlas.\n",
    "\n",
    "**Effective Replacement for Previous AI Methods:**\n",
    "- GPT-4 proved to be a viable alternative to other image generation AI, such as StyleGAN, which was unsuccessful for me in my attempt, due to my limited resources; eg RAM of my personal computer. The seamless integration and efficient performance of GPT-4 alleviated previous computational constraints, enabling smoother workflow for my portfolio and higher productivity in creating an engaging atlas for the public.\n",
    "\n",
    "**Limitations in Image Accuracy:**\n",
    "- Despite its overall effectiveness, GPT-4 exhibited limitations in accurately capturing specific descriptions. For instance, the image generated for 'rude Scots' failed to convey the intended description, highlighting a discrepancy between the input prompts and the generated output. This lack of precision in image interpretation poses a challenge in ensuring the fidelity and relevance of generated visuals, potentially undermining the credibility and coherence of the atlas content.\n",
    "\n",
    "**Inconsistencies in Image Quality:**\n",
    "- While GPT-4 offers significant advantages in image generation, it may exhibit inconsistencies in image quality across different prompts or contexts. Variations in output quality can arise due to the algorithm's sensitivity to input parameters, resulting in discrepancies in visual coherence and fidelity. These inconsistencies pose challenges in maintaining uniformity and aesthetic appeal throughout the atlas, necessitating meticulous quality control measures to ensure a cohesive and engaging user experience.\n"
   ]
  },
  {
   "cell_type": "markdown",
   "id": "facc4b5e",
   "metadata": {},
   "source": [
    "### 3.2 Further Implications "
   ]
  },
  {
   "cell_type": "markdown",
   "id": "6cc14643",
   "metadata": {},
   "source": [
    "**Potential for Misinterpretation:**\n",
    "- The reliance on AI-generated images introduces the risk of misinterpretation or misrepresentation, particularly when conveying nuanced or culturally sensitive themes. While GPT-4 offers convenience and efficiency in image generation, its automated nature may overlook contextual subtleties or nuances, leading to inaccuracies or inappropriate visual representations. This raises concerns regarding the reliability and appropriateness of the generated content, necessitating careful scrutiny and validation to maintain the integrity and authenticity of the atlas.\n",
    "\n",
    "**Ethical Considerations in Image Use:** \n",
    "- The integration of AI-generated images raises ethical considerations regarding intellectual property rights and fair use practices. While GPT-4 simplifies image creation, it also challenges traditional notions of authorship and ownership, blurring the lines between original and derivative works. Failure to address these ethical considerations can lead to legal disputes or reputational damage, undermining the atlas's credibility and sustainability. Clear guidelines and protocols are essential to navigate these ethical complexities and ensure responsible image usage within the atlas.\n",
    "\n",
    "**Risk of Overreliance on AI:**\n",
    "- Overreliance on GPT-4 for image generation may inadvertently stifle creativity and innovation in atlas development, limiting opportunities for human-driven artistic expression and interpretation. While AI tools offer efficiency and convenience, they should complement rather than replace human creativity and expertise. Excessive reliance on AI algorithms may compromise the uniqueness and authenticity of the atlas, diminishing its cultural and artistic significance. Balancing the use of AI with human ingenuity is essential to preserve the atlas's integrity and relevance in the long term.\n",
    "\n",
    "Furthermore, the atlas is extensive spanning over 600 pages. Generating images for each page manually could be impractical, suggesting the inclusion of user-generated prompts, suggesting their own ideas can enhance its engagement and efficiency. Ultimately, users' ability or willingness to use GPT-4 may affect the project's effectiveness, warranting consideration for alternative image generation methods within the portfolio itself. GPT-4 comes with a monthly fee of £20, which might deter some users who aren't keen on spending money. Additionally, understanding how to use ChatGPT-4 can be a bit tricky. If users are not sure how it works, they may hesitate to utilise it, limiting what you can do with this project. Moreover, it's also important to think about individual's comfort levels with technology. Even though GPT-4 is designed to be user-friendly, it still requires some basic tech skills. If users don't feel confident using it, they might not get the most out of this project. Providing support and resources to help users navigate GPT-4 could make a big difference in how successful the project is."
   ]
  },
  {
   "cell_type": "markdown",
   "id": "cfa45d47",
   "metadata": {},
   "source": [
    "### 3.3 Concluding Remarks"
   ]
  },
  {
   "cell_type": "markdown",
   "id": "2cd40207",
   "metadata": {},
   "source": [
    "To conclude, this project aim was to enhance engagement with the general public regarding the atlas, titled: \"A geographical description of the four parts of the world\" by Richard Blome. The objective was to carry this out through ai image generation, that would allow readers to visualise the intensive and complex descriptions provided in the atlas. This notion allows for the appeciation of cartography to recognise its importance in historical context that provides much value to researchers and historians today. It also allows users to appreciate the style of cartography common in preceeding periods and its value, whislt also being able to grasp the full extent of the descriptions in a more explicit ways as cartographic interpretation is often difficult for the general public due to its detailed and extensive nature, furthermore the lexicon of the time also provides difficulty in navigating the information desseminated within the atlas, futher supporting the concept to visualise excerpts of this atlas. Futhermore, visualisation also enables for more inclusivity where, individuals who struggle with reading; in terms of dyslexia or comprehension level, are also now able to appreciate the works of Richard Blome. \n",
    "\n",
    "The choice to use ai, enables various opportunities to be explored with engagement and also acts as a more efficient and effective method to personalise and generate visually impressive imagery, that would not be so easily extensively achieved through non ai methods. Moreover, the collaboration between ai and human input here has been effective and seamlessly integrated through utilising the potential of the ai whilst prompting relevant inputs from human consideration, and additionally ensuring value and understanding is given to the ai generated outputs. \n",
    "\n",
    "Furthermore, collaborating with my peers was an enhancement to this project to provide support on methods of using ai, utilising and sharing ChatGPT4 to carry out the aims of this project. It was also highly beneficial for ensuring that relevancy and value of the outputs were attained to individuals who were not aware of the atlas and its content prior. Finally, the collaboration with peer support enabled a beneficial understanding of elements that are essential in this project to reap engagement with wider audiences. I hope this project displays an appreciation of catography and historical differences and changes from the modern era, with an increased gtatitude and acknowledgement of the possibilites generative ai provides."
   ]
  }
 ],
 "metadata": {
  "kernelspec": {
   "display_name": "Python 3 (ipykernel)",
   "language": "python",
   "name": "python3"
  },
  "language_info": {
   "codemirror_mode": {
    "name": "ipython",
    "version": 3
   },
   "file_extension": ".py",
   "mimetype": "text/x-python",
   "name": "python",
   "nbconvert_exporter": "python",
   "pygments_lexer": "ipython3",
   "version": "3.10.13"
  }
 },
 "nbformat": 4,
 "nbformat_minor": 5
}
